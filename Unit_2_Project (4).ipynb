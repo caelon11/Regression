{
  "nbformat": 4,
  "nbformat_minor": 0,
  "metadata": {
    "colab": {
      "name": "Unit_2_Project",
      "provenance": [],
      "collapsed_sections": []
    },
    "kernelspec": {
      "name": "python3",
      "display_name": "Python 3"
    },
    "language_info": {
      "name": "python"
    }
  },
  "cells": [
    {
      "cell_type": "markdown",
      "metadata": {
        "id": "u-j7sm214e6Y"
      },
      "source": [
        "BLOG\n",
        "https://caelonsmith.medium.com/5-steps-to-improve-life-satisfaction-b060861038c3\n"
      ]
    },
    {
      "cell_type": "code",
      "metadata": {
        "id": "BVZg2WBjtf8L"
      },
      "source": [
        "import sys\n",
        "\n",
        "# If you're on Colab:\n",
        "if 'google.colab' in sys.modules:\n",
        "    !pip install category_encoders==2.*\n",
        "    !pip install pandas-profiling==2.*\n",
        "    !pip install pdpbox\n",
        "    !pip install shap\n",
        ";"
      ],
      "execution_count": null,
      "outputs": []
    },
    {
      "cell_type": "code",
      "metadata": {
        "id": "wjOryGAoqddW"
      },
      "source": [
        "# Imports to bring data in\n",
        "from google.colab import files\n",
        "import io\n",
        "import pandas as pd\n",
        "import matplotlib.pyplot as plt\n",
        "import pandas as pd\n",
        "import numpy as np\n",
        "from sklearn.model_selection import train_test_split\n",
        "import graphviz\n",
        "from sklearn.tree import export_graphviz\n",
        "from sklearn.pipeline import make_pipeline\n",
        "from sklearn.preprocessing import StandardScaler\n",
        "from sklearn.impute import SimpleImputer\n",
        "from sklearn.linear_model import LogisticRegression, LinearRegression, Ridge\n",
        "from sklearn.tree import DecisionTreeClassifier\n",
        "from sklearn.metrics import accuracy_score, mean_absolute_error\n",
        "from sklearn.ensemble import RandomForestClassifier\n",
        "from category_encoders import OneHotEncoder, OrdinalEncoder\n",
        "from pdpbox.pdp import pdp_isolate, pdp_plot, pdp_interact, pdp_interact_plot\n",
        "import shap\n",
        "from sklearn.metrics import plot_confusion_matrix, classification_report\n",
        "from sklearn.model_selection import cross_val_score\n",
        "from sklearn.model_selection import GridSearchCV, RandomizedSearchCV\n",
        "from xgboost import XGBClassifier\n",
        "from sklearn.inspection import permutation_importance"
      ],
      "execution_count": 54,
      "outputs": []
    },
    {
      "cell_type": "code",
      "metadata": {
        "colab": {
          "resources": {
            "http://localhost:8080/nbextensions/google.colab/files.js": {
              "data": "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",
              "ok": true,
              "headers": [
                [
                  "content-type",
                  "application/javascript"
                ]
              ],
              "status": 200,
              "status_text": ""
            }
          },
          "base_uri": "https://localhost:8080/",
          "height": 72
        },
        "id": "2U9ReudSqeGd",
        "outputId": "b200f6eb-a7c6-4c88-bd96-fc7307cc24b1"
      },
      "source": [
        "uploaded = files.upload()"
      ],
      "execution_count": 5,
      "outputs": [
        {
          "output_type": "display_data",
          "data": {
            "text/html": [
              "\n",
              "     <input type=\"file\" id=\"files-9b8227a6-c207-44c7-81e0-b026a7b9c400\" name=\"files[]\" multiple disabled\n",
              "        style=\"border:none\" />\n",
              "     <output id=\"result-9b8227a6-c207-44c7-81e0-b026a7b9c400\">\n",
              "      Upload widget is only available when the cell has been executed in the\n",
              "      current browser session. Please rerun this cell to enable.\n",
              "      </output>\n",
              "      <script src=\"/nbextensions/google.colab/files.js\"></script> "
            ],
            "text/plain": [
              "<IPython.core.display.HTML object>"
            ]
          },
          "metadata": {
            "tags": []
          }
        },
        {
          "output_type": "stream",
          "text": [
            "Saving Wellbeing_and_lifestyle_data_Kaggle 2.csv to Wellbeing_and_lifestyle_data_Kaggle 2.csv\n"
          ],
          "name": "stdout"
        }
      ]
    },
    {
      "cell_type": "code",
      "metadata": {
        "id": "fhEqUNZ_qhdD"
      },
      "source": [
        "# create function to classify life satisfaction scores into 4 buckets \n",
        "def classifier(row):\n",
        "  if row['WORK_LIFE_BALANCE_SCORE'] < 550:\n",
        "    return 'Poor Score'\n",
        "  elif row['WORK_LIFE_BALANCE_SCORE'] < 680:\n",
        "    return 'Average Score'\n",
        "  elif row['WORK_LIFE_BALANCE_SCORE'] < 700:\n",
        "    return 'Good Score'\n",
        "  else:\n",
        "    return 'Excellent Score'\n",
        "\n",
        "# wrangle function\n",
        "def wrangle(filepath):\n",
        "  df = pd.read_csv(io.BytesIO(uploaded[filepath]))\n",
        "\n",
        "  # Set time column to datetime format\n",
        "  df['Timestamp'] = pd.to_datetime(df['Timestamp'], infer_datetime_format=True)\n",
        "  \n",
        "  # Set index as the timestamp column\n",
        "  df.set_index('Timestamp', inplace=True)\n",
        "  \n",
        "  # Clean daily stress data and set as int vs object\n",
        "  df['DAILY_STRESS'].replace('1/1/00', '1', inplace=True)\n",
        "  df['DAILY_STRESS'] = df['DAILY_STRESS'].astype(int)\n",
        "  \n",
        "  # Encode Gender to be 1 for male and 0 for female\n",
        "  df[\"GENDER\"] = np.where(df[\"GENDER\"].str.contains(\"Male\"), 1, 0)\n",
        "  \n",
        "  # CLASSIFY target column\n",
        "  df['TARGET_CLASSIFICATION'] = df.apply(classifier, axis=1)\n",
        "\n",
        "  # Drop bmi and income to distill better insights [TOGGLE AREA: COMMENT OUT THE DROP FUNCTION AND RUN ALL CELLS TO VIEW RESULTS WITH THESE COLUMNS INCLUDED]\n",
        "  # df = df.drop(columns=['BMI_RANGE', 'SUFFICIENT_INCOME'])\n",
        "\n",
        "  return df"
      ],
      "execution_count": 56,
      "outputs": []
    },
    {
      "cell_type": "code",
      "metadata": {
        "colab": {
          "base_uri": "https://localhost:8080/",
          "height": 252
        },
        "id": "nf7UeqbwqsAN",
        "outputId": "fa97a3e7-8093-4c38-d662-087596cd7721"
      },
      "source": [
        "filepath = 'Wellbeing_and_lifestyle_data_Kaggle 2.csv'\n",
        "df = wrangle(filepath)\n",
        "\n",
        "# Create dataframe for the regression analysis\n",
        "# drop the classification target column\n",
        "df_regression = df.drop(columns='TARGET_CLASSIFICATION')\n",
        "\n",
        "# Use 90% of data for training and validation\n",
        "df_train_regression = df_regression.tail((15972 - 1597))\n",
        "\n",
        "# Use 10% of data for testing after training and validating\n",
        "df_test_regression = df_regression.head(1597)\n",
        "regression_X_test = df_test_regression.drop(columns='WORK_LIFE_BALANCE_SCORE')\n",
        "regression_y_test = df_test_regression['WORK_LIFE_BALANCE_SCORE']\n",
        "\n",
        "# Repeat above steps but for the classification analysis \n",
        "df_classification = df.drop(columns='WORK_LIFE_BALANCE_SCORE')\n",
        "df_train_classification = df_classification.tail((15972 - 1597))\n",
        "df_test_classification = df_classification.head(1597)\n",
        "class_X_test = df_test_classification.drop(columns='TARGET_CLASSIFICATION')\n",
        "class_y_test = df_test_classification['TARGET_CLASSIFICATION']\n",
        "\n",
        "# Confirm dimensions and view head\n",
        "print(df_train_regression.shape, df_test_regression.shape, df_train_classification.shape, df_test_classification.shape)\n",
        "df_train_regression.head()"
      ],
      "execution_count": 57,
      "outputs": [
        {
          "output_type": "stream",
          "text": [
            "(14375, 23) (1597, 23) (14375, 23) (1597, 23)\n"
          ],
          "name": "stdout"
        },
        {
          "output_type": "execute_result",
          "data": {
            "text/html": [
              "<div>\n",
              "<style scoped>\n",
              "    .dataframe tbody tr th:only-of-type {\n",
              "        vertical-align: middle;\n",
              "    }\n",
              "\n",
              "    .dataframe tbody tr th {\n",
              "        vertical-align: top;\n",
              "    }\n",
              "\n",
              "    .dataframe thead th {\n",
              "        text-align: right;\n",
              "    }\n",
              "</style>\n",
              "<table border=\"1\" class=\"dataframe\">\n",
              "  <thead>\n",
              "    <tr style=\"text-align: right;\">\n",
              "      <th></th>\n",
              "      <th>FRUITS_VEGGIES</th>\n",
              "      <th>DAILY_STRESS</th>\n",
              "      <th>PLACES_VISITED</th>\n",
              "      <th>CORE_CIRCLE</th>\n",
              "      <th>SUPPORTING_OTHERS</th>\n",
              "      <th>SOCIAL_NETWORK</th>\n",
              "      <th>ACHIEVEMENT</th>\n",
              "      <th>DONATION</th>\n",
              "      <th>BMI_RANGE</th>\n",
              "      <th>TODO_COMPLETED</th>\n",
              "      <th>FLOW</th>\n",
              "      <th>DAILY_STEPS</th>\n",
              "      <th>LIVE_VISION</th>\n",
              "      <th>SLEEP_HOURS</th>\n",
              "      <th>LOST_VACATION</th>\n",
              "      <th>DAILY_SHOUTING</th>\n",
              "      <th>SUFFICIENT_INCOME</th>\n",
              "      <th>PERSONAL_AWARDS</th>\n",
              "      <th>TIME_FOR_PASSION</th>\n",
              "      <th>WEEKLY_MEDITATION</th>\n",
              "      <th>AGE</th>\n",
              "      <th>GENDER</th>\n",
              "      <th>WORK_LIFE_BALANCE_SCORE</th>\n",
              "    </tr>\n",
              "    <tr>\n",
              "      <th>Timestamp</th>\n",
              "      <th></th>\n",
              "      <th></th>\n",
              "      <th></th>\n",
              "      <th></th>\n",
              "      <th></th>\n",
              "      <th></th>\n",
              "      <th></th>\n",
              "      <th></th>\n",
              "      <th></th>\n",
              "      <th></th>\n",
              "      <th></th>\n",
              "      <th></th>\n",
              "      <th></th>\n",
              "      <th></th>\n",
              "      <th></th>\n",
              "      <th></th>\n",
              "      <th></th>\n",
              "      <th></th>\n",
              "      <th></th>\n",
              "      <th></th>\n",
              "      <th></th>\n",
              "      <th></th>\n",
              "      <th></th>\n",
              "    </tr>\n",
              "  </thead>\n",
              "  <tbody>\n",
              "    <tr>\n",
              "      <th>2015-11-14</th>\n",
              "      <td>5</td>\n",
              "      <td>2</td>\n",
              "      <td>7</td>\n",
              "      <td>10</td>\n",
              "      <td>10</td>\n",
              "      <td>6</td>\n",
              "      <td>10</td>\n",
              "      <td>1</td>\n",
              "      <td>1</td>\n",
              "      <td>8</td>\n",
              "      <td>7</td>\n",
              "      <td>8</td>\n",
              "      <td>10</td>\n",
              "      <td>8</td>\n",
              "      <td>4</td>\n",
              "      <td>0</td>\n",
              "      <td>1</td>\n",
              "      <td>3</td>\n",
              "      <td>7</td>\n",
              "      <td>10</td>\n",
              "      <td>21 to 35</td>\n",
              "      <td>0</td>\n",
              "      <td>731.0</td>\n",
              "    </tr>\n",
              "    <tr>\n",
              "      <th>2015-11-14</th>\n",
              "      <td>1</td>\n",
              "      <td>3</td>\n",
              "      <td>2</td>\n",
              "      <td>4</td>\n",
              "      <td>3</td>\n",
              "      <td>10</td>\n",
              "      <td>4</td>\n",
              "      <td>0</td>\n",
              "      <td>1</td>\n",
              "      <td>3</td>\n",
              "      <td>4</td>\n",
              "      <td>2</td>\n",
              "      <td>2</td>\n",
              "      <td>8</td>\n",
              "      <td>1</td>\n",
              "      <td>0</td>\n",
              "      <td>2</td>\n",
              "      <td>3</td>\n",
              "      <td>3</td>\n",
              "      <td>3</td>\n",
              "      <td>36 to 50</td>\n",
              "      <td>0</td>\n",
              "      <td>641.4</td>\n",
              "    </tr>\n",
              "    <tr>\n",
              "      <th>2015-11-14</th>\n",
              "      <td>2</td>\n",
              "      <td>2</td>\n",
              "      <td>2</td>\n",
              "      <td>4</td>\n",
              "      <td>4</td>\n",
              "      <td>10</td>\n",
              "      <td>3</td>\n",
              "      <td>0</td>\n",
              "      <td>1</td>\n",
              "      <td>3</td>\n",
              "      <td>3</td>\n",
              "      <td>2</td>\n",
              "      <td>2</td>\n",
              "      <td>8</td>\n",
              "      <td>0</td>\n",
              "      <td>0</td>\n",
              "      <td>2</td>\n",
              "      <td>3</td>\n",
              "      <td>3</td>\n",
              "      <td>3</td>\n",
              "      <td>36 to 50</td>\n",
              "      <td>0</td>\n",
              "      <td>648.2</td>\n",
              "    </tr>\n",
              "    <tr>\n",
              "      <th>2015-11-14</th>\n",
              "      <td>5</td>\n",
              "      <td>4</td>\n",
              "      <td>9</td>\n",
              "      <td>5</td>\n",
              "      <td>10</td>\n",
              "      <td>10</td>\n",
              "      <td>10</td>\n",
              "      <td>2</td>\n",
              "      <td>1</td>\n",
              "      <td>6</td>\n",
              "      <td>1</td>\n",
              "      <td>5</td>\n",
              "      <td>3</td>\n",
              "      <td>8</td>\n",
              "      <td>0</td>\n",
              "      <td>2</td>\n",
              "      <td>2</td>\n",
              "      <td>8</td>\n",
              "      <td>2</td>\n",
              "      <td>4</td>\n",
              "      <td>36 to 50</td>\n",
              "      <td>0</td>\n",
              "      <td>708.3</td>\n",
              "    </tr>\n",
              "    <tr>\n",
              "      <th>2015-11-14</th>\n",
              "      <td>2</td>\n",
              "      <td>4</td>\n",
              "      <td>5</td>\n",
              "      <td>5</td>\n",
              "      <td>7</td>\n",
              "      <td>10</td>\n",
              "      <td>6</td>\n",
              "      <td>3</td>\n",
              "      <td>1</td>\n",
              "      <td>0</td>\n",
              "      <td>5</td>\n",
              "      <td>7</td>\n",
              "      <td>7</td>\n",
              "      <td>8</td>\n",
              "      <td>3</td>\n",
              "      <td>2</td>\n",
              "      <td>1</td>\n",
              "      <td>8</td>\n",
              "      <td>4</td>\n",
              "      <td>2</td>\n",
              "      <td>Less than 20</td>\n",
              "      <td>0</td>\n",
              "      <td>667.9</td>\n",
              "    </tr>\n",
              "  </tbody>\n",
              "</table>\n",
              "</div>"
            ],
            "text/plain": [
              "            FRUITS_VEGGIES  DAILY_STRESS  ...  GENDER  WORK_LIFE_BALANCE_SCORE\n",
              "Timestamp                                 ...                                 \n",
              "2015-11-14               5             2  ...       0                    731.0\n",
              "2015-11-14               1             3  ...       0                    641.4\n",
              "2015-11-14               2             2  ...       0                    648.2\n",
              "2015-11-14               5             4  ...       0                    708.3\n",
              "2015-11-14               2             4  ...       0                    667.9\n",
              "\n",
              "[5 rows x 23 columns]"
            ]
          },
          "metadata": {
            "tags": []
          },
          "execution_count": 57
        }
      ]
    },
    {
      "cell_type": "code",
      "metadata": {
        "colab": {
          "base_uri": "https://localhost:8080/",
          "height": 297
        },
        "id": "gvdr3Ko8s_82",
        "outputId": "2bac2402-c5a7-495d-c080-be94c9a76cfc"
      },
      "source": [
        "# Check key statistics\n",
        "df.describe()"
      ],
      "execution_count": 58,
      "outputs": [
        {
          "output_type": "execute_result",
          "data": {
            "text/html": [
              "<div>\n",
              "<style scoped>\n",
              "    .dataframe tbody tr th:only-of-type {\n",
              "        vertical-align: middle;\n",
              "    }\n",
              "\n",
              "    .dataframe tbody tr th {\n",
              "        vertical-align: top;\n",
              "    }\n",
              "\n",
              "    .dataframe thead th {\n",
              "        text-align: right;\n",
              "    }\n",
              "</style>\n",
              "<table border=\"1\" class=\"dataframe\">\n",
              "  <thead>\n",
              "    <tr style=\"text-align: right;\">\n",
              "      <th></th>\n",
              "      <th>FRUITS_VEGGIES</th>\n",
              "      <th>DAILY_STRESS</th>\n",
              "      <th>PLACES_VISITED</th>\n",
              "      <th>CORE_CIRCLE</th>\n",
              "      <th>SUPPORTING_OTHERS</th>\n",
              "      <th>SOCIAL_NETWORK</th>\n",
              "      <th>ACHIEVEMENT</th>\n",
              "      <th>DONATION</th>\n",
              "      <th>BMI_RANGE</th>\n",
              "      <th>TODO_COMPLETED</th>\n",
              "      <th>FLOW</th>\n",
              "      <th>DAILY_STEPS</th>\n",
              "      <th>LIVE_VISION</th>\n",
              "      <th>SLEEP_HOURS</th>\n",
              "      <th>LOST_VACATION</th>\n",
              "      <th>DAILY_SHOUTING</th>\n",
              "      <th>SUFFICIENT_INCOME</th>\n",
              "      <th>PERSONAL_AWARDS</th>\n",
              "      <th>TIME_FOR_PASSION</th>\n",
              "      <th>WEEKLY_MEDITATION</th>\n",
              "      <th>GENDER</th>\n",
              "      <th>WORK_LIFE_BALANCE_SCORE</th>\n",
              "    </tr>\n",
              "  </thead>\n",
              "  <tbody>\n",
              "    <tr>\n",
              "      <th>count</th>\n",
              "      <td>15972.000000</td>\n",
              "      <td>15972.000000</td>\n",
              "      <td>15972.000000</td>\n",
              "      <td>15972.000000</td>\n",
              "      <td>15972.000000</td>\n",
              "      <td>15972.000000</td>\n",
              "      <td>15972.000000</td>\n",
              "      <td>15972.000000</td>\n",
              "      <td>15972.000000</td>\n",
              "      <td>15972.000000</td>\n",
              "      <td>15972.000000</td>\n",
              "      <td>15972.000000</td>\n",
              "      <td>15972.000000</td>\n",
              "      <td>15972.000000</td>\n",
              "      <td>15972.000000</td>\n",
              "      <td>15972.000000</td>\n",
              "      <td>15972.000000</td>\n",
              "      <td>15972.000000</td>\n",
              "      <td>15972.000000</td>\n",
              "      <td>15972.000000</td>\n",
              "      <td>15972.000000</td>\n",
              "      <td>15972.000000</td>\n",
              "    </tr>\n",
              "    <tr>\n",
              "      <th>mean</th>\n",
              "      <td>2.922677</td>\n",
              "      <td>2.791573</td>\n",
              "      <td>5.232970</td>\n",
              "      <td>5.508077</td>\n",
              "      <td>5.616454</td>\n",
              "      <td>6.474267</td>\n",
              "      <td>4.000751</td>\n",
              "      <td>2.715314</td>\n",
              "      <td>1.410656</td>\n",
              "      <td>5.745993</td>\n",
              "      <td>3.194778</td>\n",
              "      <td>5.703606</td>\n",
              "      <td>3.752129</td>\n",
              "      <td>7.042888</td>\n",
              "      <td>2.898886</td>\n",
              "      <td>2.930879</td>\n",
              "      <td>1.728963</td>\n",
              "      <td>5.711558</td>\n",
              "      <td>3.326572</td>\n",
              "      <td>6.233346</td>\n",
              "      <td>0.382795</td>\n",
              "      <td>666.751503</td>\n",
              "    </tr>\n",
              "    <tr>\n",
              "      <th>std</th>\n",
              "      <td>1.442694</td>\n",
              "      <td>1.367831</td>\n",
              "      <td>3.311912</td>\n",
              "      <td>2.840334</td>\n",
              "      <td>3.242021</td>\n",
              "      <td>3.086672</td>\n",
              "      <td>2.755837</td>\n",
              "      <td>1.851586</td>\n",
              "      <td>0.491968</td>\n",
              "      <td>2.624097</td>\n",
              "      <td>2.357518</td>\n",
              "      <td>2.891013</td>\n",
              "      <td>3.230987</td>\n",
              "      <td>1.199044</td>\n",
              "      <td>3.692180</td>\n",
              "      <td>2.676301</td>\n",
              "      <td>0.444509</td>\n",
              "      <td>3.089630</td>\n",
              "      <td>2.729293</td>\n",
              "      <td>3.016571</td>\n",
              "      <td>0.486084</td>\n",
              "      <td>45.019868</td>\n",
              "    </tr>\n",
              "    <tr>\n",
              "      <th>min</th>\n",
              "      <td>0.000000</td>\n",
              "      <td>0.000000</td>\n",
              "      <td>0.000000</td>\n",
              "      <td>0.000000</td>\n",
              "      <td>0.000000</td>\n",
              "      <td>0.000000</td>\n",
              "      <td>0.000000</td>\n",
              "      <td>0.000000</td>\n",
              "      <td>1.000000</td>\n",
              "      <td>0.000000</td>\n",
              "      <td>0.000000</td>\n",
              "      <td>1.000000</td>\n",
              "      <td>0.000000</td>\n",
              "      <td>1.000000</td>\n",
              "      <td>0.000000</td>\n",
              "      <td>0.000000</td>\n",
              "      <td>1.000000</td>\n",
              "      <td>0.000000</td>\n",
              "      <td>0.000000</td>\n",
              "      <td>0.000000</td>\n",
              "      <td>0.000000</td>\n",
              "      <td>480.000000</td>\n",
              "    </tr>\n",
              "    <tr>\n",
              "      <th>25%</th>\n",
              "      <td>2.000000</td>\n",
              "      <td>2.000000</td>\n",
              "      <td>2.000000</td>\n",
              "      <td>3.000000</td>\n",
              "      <td>3.000000</td>\n",
              "      <td>4.000000</td>\n",
              "      <td>2.000000</td>\n",
              "      <td>1.000000</td>\n",
              "      <td>1.000000</td>\n",
              "      <td>4.000000</td>\n",
              "      <td>1.000000</td>\n",
              "      <td>3.000000</td>\n",
              "      <td>1.000000</td>\n",
              "      <td>6.000000</td>\n",
              "      <td>0.000000</td>\n",
              "      <td>1.000000</td>\n",
              "      <td>1.000000</td>\n",
              "      <td>3.000000</td>\n",
              "      <td>1.000000</td>\n",
              "      <td>4.000000</td>\n",
              "      <td>0.000000</td>\n",
              "      <td>636.000000</td>\n",
              "    </tr>\n",
              "    <tr>\n",
              "      <th>50%</th>\n",
              "      <td>3.000000</td>\n",
              "      <td>3.000000</td>\n",
              "      <td>5.000000</td>\n",
              "      <td>5.000000</td>\n",
              "      <td>5.000000</td>\n",
              "      <td>6.000000</td>\n",
              "      <td>3.000000</td>\n",
              "      <td>3.000000</td>\n",
              "      <td>1.000000</td>\n",
              "      <td>6.000000</td>\n",
              "      <td>3.000000</td>\n",
              "      <td>5.000000</td>\n",
              "      <td>3.000000</td>\n",
              "      <td>7.000000</td>\n",
              "      <td>0.000000</td>\n",
              "      <td>2.000000</td>\n",
              "      <td>2.000000</td>\n",
              "      <td>5.000000</td>\n",
              "      <td>3.000000</td>\n",
              "      <td>7.000000</td>\n",
              "      <td>0.000000</td>\n",
              "      <td>667.700000</td>\n",
              "    </tr>\n",
              "    <tr>\n",
              "      <th>75%</th>\n",
              "      <td>4.000000</td>\n",
              "      <td>4.000000</td>\n",
              "      <td>8.000000</td>\n",
              "      <td>8.000000</td>\n",
              "      <td>10.000000</td>\n",
              "      <td>10.000000</td>\n",
              "      <td>6.000000</td>\n",
              "      <td>5.000000</td>\n",
              "      <td>2.000000</td>\n",
              "      <td>8.000000</td>\n",
              "      <td>5.000000</td>\n",
              "      <td>8.000000</td>\n",
              "      <td>5.000000</td>\n",
              "      <td>8.000000</td>\n",
              "      <td>5.000000</td>\n",
              "      <td>4.000000</td>\n",
              "      <td>2.000000</td>\n",
              "      <td>9.000000</td>\n",
              "      <td>5.000000</td>\n",
              "      <td>10.000000</td>\n",
              "      <td>1.000000</td>\n",
              "      <td>698.500000</td>\n",
              "    </tr>\n",
              "    <tr>\n",
              "      <th>max</th>\n",
              "      <td>5.000000</td>\n",
              "      <td>5.000000</td>\n",
              "      <td>10.000000</td>\n",
              "      <td>10.000000</td>\n",
              "      <td>10.000000</td>\n",
              "      <td>10.000000</td>\n",
              "      <td>10.000000</td>\n",
              "      <td>5.000000</td>\n",
              "      <td>2.000000</td>\n",
              "      <td>10.000000</td>\n",
              "      <td>10.000000</td>\n",
              "      <td>10.000000</td>\n",
              "      <td>10.000000</td>\n",
              "      <td>10.000000</td>\n",
              "      <td>10.000000</td>\n",
              "      <td>10.000000</td>\n",
              "      <td>2.000000</td>\n",
              "      <td>10.000000</td>\n",
              "      <td>10.000000</td>\n",
              "      <td>10.000000</td>\n",
              "      <td>1.000000</td>\n",
              "      <td>820.200000</td>\n",
              "    </tr>\n",
              "  </tbody>\n",
              "</table>\n",
              "</div>"
            ],
            "text/plain": [
              "       FRUITS_VEGGIES  DAILY_STRESS  ...        GENDER  WORK_LIFE_BALANCE_SCORE\n",
              "count    15972.000000  15972.000000  ...  15972.000000             15972.000000\n",
              "mean         2.922677      2.791573  ...      0.382795               666.751503\n",
              "std          1.442694      1.367831  ...      0.486084                45.019868\n",
              "min          0.000000      0.000000  ...      0.000000               480.000000\n",
              "25%          2.000000      2.000000  ...      0.000000               636.000000\n",
              "50%          3.000000      3.000000  ...      0.000000               667.700000\n",
              "75%          4.000000      4.000000  ...      1.000000               698.500000\n",
              "max          5.000000      5.000000  ...      1.000000               820.200000\n",
              "\n",
              "[8 rows x 22 columns]"
            ]
          },
          "metadata": {
            "tags": []
          },
          "execution_count": 58
        }
      ]
    },
    {
      "cell_type": "code",
      "metadata": {
        "id": "xrDqFMwPrAj8"
      },
      "source": [
        "# identifiy target variable in regression models\n",
        "# get X for regression and y for regression\n",
        "target_regression = 'WORK_LIFE_BALANCE_SCORE'\n",
        "X_reg = df_train_regression.drop(columns=target_regression)\n",
        "y_reg = df_train_regression[target_regression]\n",
        "\n",
        "# repeat above for classification models\n",
        "target_classification = 'TARGET_CLASSIFICATION'\n",
        "X_clas = df_train_classification.drop(columns=target_classification)\n",
        "y_clas = df_train_classification[target_classification]"
      ],
      "execution_count": 59,
      "outputs": []
    },
    {
      "cell_type": "code",
      "metadata": {
        "id": "8oty97X1rKcZ"
      },
      "source": [
        "# train test split regression model data\n",
        "X_train_r, X_val_r, y_train_r, y_val_r = train_test_split(X_reg, y_reg, train_size=0.9)\n",
        "\n",
        "# train test split classification model data\n",
        "X_train_c, X_val_c, y_train_c, y_val_c = train_test_split(X_clas, y_clas, train_size=0.9)"
      ],
      "execution_count": 60,
      "outputs": []
    },
    {
      "cell_type": "code",
      "metadata": {
        "id": "ubFNfAzvrXUT",
        "colab": {
          "base_uri": "https://localhost:8080/"
        },
        "outputId": "ea7e80fe-b6cc-4266-fb98-bca90da38267"
      },
      "source": [
        "# Regression Baseline\n",
        "y_pred_baseline = [y_reg.mean()] * len(y_reg)\n",
        "baseline_mae = mean_absolute_error(y_reg, y_pred_baseline)\n",
        "print('Regression Baseline MAE:', baseline_mae)\n",
        "\n",
        "# Classification Baseline\n",
        "baseline_acc = y_clas.value_counts(normalize=True).max()\n",
        "print('Baseline Accuracy Score:', baseline_acc)"
      ],
      "execution_count": 61,
      "outputs": [
        {
          "output_type": "stream",
          "text": [
            "Regression Baseline MAE: 36.074331749625664\n",
            "Baseline Accuracy Score: 0.6032695652173913\n"
          ],
          "name": "stdout"
        }
      ]
    },
    {
      "cell_type": "code",
      "metadata": {
        "colab": {
          "base_uri": "https://localhost:8080/"
        },
        "id": "hKfLNqClrnX7",
        "outputId": "851a2215-8baf-4ed0-fdd6-54d393465e63"
      },
      "source": [
        "# Identifiy distribution of results for classification models\n",
        "y_clas.value_counts(normalize=True)"
      ],
      "execution_count": 62,
      "outputs": [
        {
          "output_type": "execute_result",
          "data": {
            "text/plain": [
              "Average Score      0.603270\n",
              "Excellent Score    0.236035\n",
              "Good Score         0.156243\n",
              "Poor Score         0.004452\n",
              "Name: TARGET_CLASSIFICATION, dtype: float64"
            ]
          },
          "metadata": {
            "tags": []
          },
          "execution_count": 62
        }
      ]
    },
    {
      "cell_type": "code",
      "metadata": {
        "id": "7VX35eGBsQnp"
      },
      "source": [
        "# Build pipeline for Linear Regression Model\n",
        "model_lr = make_pipeline(OneHotEncoder(use_cat_names=True),\n",
        "                         SimpleImputer(),\n",
        "                         StandardScaler(),\n",
        "                         LinearRegression())\n",
        "\n",
        "model_lr.fit(X_train_r, y_train_r);"
      ],
      "execution_count": 63,
      "outputs": []
    },
    {
      "cell_type": "code",
      "metadata": {
        "id": "4IYPA1Ubsxno"
      },
      "source": [
        "# Build pipeline for Ridge Regression Model\n",
        "model_r = make_pipeline(OneHotEncoder(use_cat_names=True),\n",
        "                        SimpleImputer(strategy='most_frequent'),\n",
        "                        StandardScaler(),\n",
        "                        Ridge(alpha=1, random_state=42))\n",
        "model_r.fit(X_train_r, y_train_r);"
      ],
      "execution_count": 64,
      "outputs": []
    },
    {
      "cell_type": "code",
      "metadata": {
        "colab": {
          "base_uri": "https://localhost:8080/"
        },
        "id": "7EKPMpRKt3hV",
        "outputId": "918c0deb-def3-4d67-e4e4-3c359c002d1b"
      },
      "source": [
        "# Get MAE's for linear regression train, validation, test \n",
        "model_lr_mae_train = mean_absolute_error(y_train_r, model_lr.predict(X_train_r))\n",
        "model_lr_mae_val = mean_absolute_error(y_val_r, model_lr.predict(X_val_r))\n",
        "model_lr_mae_test = mean_absolute_error(regression_y_test, model_lr.predict(regression_X_test))\n",
        "\n",
        "# Get MAE's for ridge regression train, validation, test \n",
        "model_r_mae_train = mean_absolute_error(y_train_r, model_r.predict(X_train_r))\n",
        "model_r_mae_val = mean_absolute_error(y_val_r, model_r.predict(X_val_r))\n",
        "model_r_mae_test = mean_absolute_error(regression_y_test, model_r.predict(regression_X_test))\n",
        "\n",
        "# view results\n",
        "print('LR Train MAE:', model_lr_mae_train, '\\n', 'LR Val MAE:', model_lr_mae_val, '\\n', 'LR Test MAE:', model_lr_mae_test, '\\n', 'Ridge Train MAE:', model_r_mae_train, '\\n', 'Ridge Val MAE:', model_r_mae_val, '\\n', 'Ridge Test MAE:', model_r_mae_test)"
      ],
      "execution_count": 65,
      "outputs": [
        {
          "output_type": "stream",
          "text": [
            "LR Train MAE: 6.194469499108537e-14 \n",
            " LR Val MAE: 6.498649555435909e-14 \n",
            " LR Test MAE: 6.001127376288185e-14 \n",
            " Ridge Train MAE: 0.0009683234529694047 \n",
            " Ridge Val MAE: 0.0009552617707459697 \n",
            " Ridge Test MAE: 0.001050971228140452\n"
          ],
          "name": "stdout"
        }
      ]
    },
    {
      "cell_type": "code",
      "metadata": {
        "id": "aQQ96KKe7Ufn"
      },
      "source": [
        "# build pipeline for XGB Classification model\n",
        "model_x = make_pipeline(OneHotEncoder(use_cat_names=True),\n",
        "                        SimpleImputer(),\n",
        "                        StandardScaler(),\n",
        "                        XGBClassifier(random_state=42, n_jobs=-1))\n",
        "\n",
        "model_x.fit(X_train_c, y_train_c);"
      ],
      "execution_count": 66,
      "outputs": []
    },
    {
      "cell_type": "code",
      "metadata": {
        "id": "Xltx3PbD7Wqz"
      },
      "source": [
        "# build pipeline for random forest classification model\n",
        "model_rf = make_pipeline(OrdinalEncoder(),\n",
        "                         SimpleImputer(strategy='median'),\n",
        "                         RandomForestClassifier(random_state=42, n_jobs=-1))\n",
        "\n",
        "model_rf.fit(X_train_c, y_train_c);"
      ],
      "execution_count": 67,
      "outputs": []
    },
    {
      "cell_type": "code",
      "metadata": {
        "colab": {
          "base_uri": "https://localhost:8080/"
        },
        "id": "HaHikCE_8Nrr",
        "outputId": "70ba7c6e-cc32-450a-c0ec-829dc8bd8a05"
      },
      "source": [
        "# get accuracy scores for XGB train, validation, test \n",
        "class_xgb_training_acc = accuracy_score(y_train_c, model_x.predict(X_train_c))\n",
        "class_xgb_val_acc = accuracy_score(y_val_c, model_x.predict(X_val_c))\n",
        "class_xgb_test_acc = accuracy_score(class_y_test, model_x.predict(class_X_test))\n",
        "\n",
        "# view XGB accuracy scores\n",
        "print('XGB Training Accuracy Score:', class_xgb_training_acc)\n",
        "print('XGB Validation Accuracy Score:', class_xgb_val_acc)\n",
        "print('XGB Test Accuracy Score:', class_xgb_test_acc, '\\n')\n",
        "\n",
        "# get accuracy scores for random forest train, validation, test\n",
        "class_rfc_training_acc = accuracy_score(y_train_c, model_rf.predict(X_train_c))\n",
        "class_rfc_val_acc = accuracy_score(y_val_c, model_rf.predict(X_val_c))\n",
        "class_rfc_test_acc = accuracy_score(class_y_test, model_rf.predict(class_X_test))\n",
        "\n",
        "# view random forest accuracy scores \n",
        "print('RFC Training Accuracy Score:', class_rfc_training_acc)\n",
        "print('RFC Validation Accuracy Score:', class_rfc_val_acc)\n",
        "print('RFC Test Accuracy Score:', class_rfc_test_acc)"
      ],
      "execution_count": 68,
      "outputs": [
        {
          "output_type": "stream",
          "text": [
            "XGB Training Accuracy Score: 0.890391899203834\n",
            "XGB Validation Accuracy Score: 0.8623087621696801\n",
            "XGB Test Accuracy Score: 0.8685034439574202 \n",
            "\n",
            "RFC Training Accuracy Score: 1.0\n",
            "RFC Validation Accuracy Score: 0.8518776077885952\n",
            "RFC Test Accuracy Score: 0.8440826549780839\n"
          ],
          "name": "stdout"
        }
      ]
    },
    {
      "cell_type": "code",
      "metadata": {
        "colab": {
          "base_uri": "https://localhost:8080/"
        },
        "id": "JVPoCnBS-H9Y",
        "outputId": "67d9e118-e8a2-45a0-89c9-b45fcf681444"
      },
      "source": [
        "# finetune parameters in random forest model\n",
        "param_grid = {'simpleimputer__strategy': ['mean', 'median', 'most_frequent'],\n",
        "              'randomforestclassifier__max_depth': range(10, 30, 1),\n",
        "              'randomforestclassifier__n_estimators': range(50, 201, 7),\n",
        "              'randomforestclassifier__max_features': range(4, 10, 1),\n",
        "              'randomforestclassifier__random_state': range(40, 50, 1)}\n",
        "\n",
        "\n",
        "model = RandomizedSearchCV(model_rf, \n",
        "                             param_distributions=param_grid, \n",
        "                             n_iter=50, \n",
        "                             n_jobs=-1, \n",
        "                             cv=5, \n",
        "                             verbose=10)\n",
        "\n",
        "model.fit(X_train_c, y_train_c);"
      ],
      "execution_count": 69,
      "outputs": [
        {
          "output_type": "stream",
          "text": [
            "Fitting 5 folds for each of 50 candidates, totalling 250 fits\n"
          ],
          "name": "stdout"
        },
        {
          "output_type": "stream",
          "text": [
            "[Parallel(n_jobs=-1)]: Using backend LokyBackend with 2 concurrent workers.\n",
            "[Parallel(n_jobs=-1)]: Done   1 tasks      | elapsed:    3.9s\n",
            "[Parallel(n_jobs=-1)]: Done   4 tasks      | elapsed:    6.5s\n",
            "[Parallel(n_jobs=-1)]: Done   9 tasks      | elapsed:   14.6s\n",
            "[Parallel(n_jobs=-1)]: Done  14 tasks      | elapsed:   17.1s\n",
            "[Parallel(n_jobs=-1)]: Done  21 tasks      | elapsed:   30.0s\n",
            "[Parallel(n_jobs=-1)]: Done  28 tasks      | elapsed:   40.5s\n",
            "[Parallel(n_jobs=-1)]: Done  37 tasks      | elapsed:   51.7s\n",
            "[Parallel(n_jobs=-1)]: Done  46 tasks      | elapsed:  1.1min\n",
            "[Parallel(n_jobs=-1)]: Done  57 tasks      | elapsed:  1.3min\n",
            "[Parallel(n_jobs=-1)]: Done  68 tasks      | elapsed:  1.6min\n",
            "[Parallel(n_jobs=-1)]: Done  81 tasks      | elapsed:  2.0min\n",
            "[Parallel(n_jobs=-1)]: Done  94 tasks      | elapsed:  2.2min\n",
            "[Parallel(n_jobs=-1)]: Done 109 tasks      | elapsed:  2.8min\n",
            "[Parallel(n_jobs=-1)]: Done 124 tasks      | elapsed:  3.3min\n",
            "[Parallel(n_jobs=-1)]: Done 141 tasks      | elapsed:  3.6min\n",
            "[Parallel(n_jobs=-1)]: Done 158 tasks      | elapsed:  4.1min\n",
            "[Parallel(n_jobs=-1)]: Done 177 tasks      | elapsed:  4.7min\n",
            "[Parallel(n_jobs=-1)]: Done 196 tasks      | elapsed:  5.1min\n",
            "[Parallel(n_jobs=-1)]: Done 217 tasks      | elapsed:  5.6min\n",
            "[Parallel(n_jobs=-1)]: Done 238 tasks      | elapsed:  6.2min\n",
            "[Parallel(n_jobs=-1)]: Done 250 out of 250 | elapsed:  6.6min finished\n"
          ],
          "name": "stderr"
        }
      ]
    },
    {
      "cell_type": "code",
      "metadata": {
        "colab": {
          "base_uri": "https://localhost:8080/"
        },
        "id": "JCgxHdHT-IyF",
        "outputId": "62b14bdc-5e81-4546-dad6-d3d50445f280"
      },
      "source": [
        "# view best results and parameters for the finetuned random forest model\n",
        "best_score = model.best_score_\n",
        "best_params = model.best_params_\n",
        "\n",
        "print('Best score for `model`:', best_score)\n",
        "print('Best params for `model`:', best_params)\n",
        "# Random forest worked best with a median simple imputer strategy, a random state at 46, 155 estimators, 9 max features, and a max depth of 16\n",
        "# RF best score was 0.851 which is higher than the initial score"
      ],
      "execution_count": 70,
      "outputs": [
        {
          "output_type": "stream",
          "text": [
            "Best score for `model`: 0.8518212570401646\n",
            "Best params for `model`: {'simpleimputer__strategy': 'median', 'randomforestclassifier__random_state': 46, 'randomforestclassifier__n_estimators': 155, 'randomforestclassifier__max_features': 9, 'randomforestclassifier__max_depth': 16}\n"
          ],
          "name": "stdout"
        }
      ]
    },
    {
      "cell_type": "code",
      "metadata": {
        "colab": {
          "base_uri": "https://localhost:8080/"
        },
        "id": "TQuclEHNBZan",
        "outputId": "5bf3dea2-8a01-424c-a09c-3c75a8a0fc50"
      },
      "source": [
        "# finetune parameters in XGB model\n",
        "param_grid = {'simpleimputer__strategy': ['mean', 'median', 'most_frequent'],\n",
        "              'xgbclassifier__max_depth': range(10, 30, 1),\n",
        "              'xgbclassifier__n_estimators': range(50, 201, 7),\n",
        "              'xgbclassifier__max_features': range(4, 10, 1),\n",
        "              'xgbclassifier__random_state': range(40, 50, 1)}\n",
        "\n",
        "\n",
        "model_xgb = RandomizedSearchCV(model_x,\n",
        "                               param_distributions=param_grid,\n",
        "                               n_iter=25,\n",
        "                               n_jobs=-1,\n",
        "                               cv=2,\n",
        "                               verbose=10)\n",
        "\n",
        "model_xgb.fit(X_train_c, y_train_c);"
      ],
      "execution_count": 72,
      "outputs": [
        {
          "output_type": "stream",
          "text": [
            "Fitting 2 folds for each of 25 candidates, totalling 50 fits\n"
          ],
          "name": "stdout"
        },
        {
          "output_type": "stream",
          "text": [
            "[Parallel(n_jobs=-1)]: Using backend LokyBackend with 2 concurrent workers.\n",
            "[Parallel(n_jobs=-1)]: Done   1 tasks      | elapsed:   17.8s\n",
            "[Parallel(n_jobs=-1)]: Done   4 tasks      | elapsed:   35.3s\n",
            "[Parallel(n_jobs=-1)]: Done   9 tasks      | elapsed:  1.6min\n",
            "[Parallel(n_jobs=-1)]: Done  14 tasks      | elapsed:  2.3min\n",
            "[Parallel(n_jobs=-1)]: Done  21 tasks      | elapsed:  3.6min\n",
            "[Parallel(n_jobs=-1)]: Done  28 tasks      | elapsed:  4.2min\n",
            "[Parallel(n_jobs=-1)]: Done  37 tasks      | elapsed:  5.5min\n",
            "[Parallel(n_jobs=-1)]: Done  46 tasks      | elapsed:  6.7min\n",
            "[Parallel(n_jobs=-1)]: Done  50 out of  50 | elapsed:  7.3min finished\n"
          ],
          "name": "stderr"
        }
      ]
    },
    {
      "cell_type": "code",
      "metadata": {
        "colab": {
          "base_uri": "https://localhost:8080/"
        },
        "id": "7j1tW1I1BZqP",
        "outputId": "7f41327f-7fab-4179-a3ff-97480e0eb9c5"
      },
      "source": [
        "# view best results and parameters for the funetuned XGB model\n",
        "xgb_best_score = model_xgb.best_score_\n",
        "xgb_best_params = model_xgb.best_params_\n",
        "\n",
        "print('Best score for `model`:', xgb_best_score)\n",
        "print('Best params for `model`:', xgb_best_params)\n",
        "# XGB performs best with a random state at 43, 197 estimators, 9 max features, 14 max depths, and a mean strategy for simple imputer\n",
        "# best score was 0.88 which tops what we got in validation"
      ],
      "execution_count": 73,
      "outputs": [
        {
          "output_type": "stream",
          "text": [
            "Best score for `model`: 0.8790287640794454\n",
            "Best params for `model`: {'xgbclassifier__random_state': 43, 'xgbclassifier__n_estimators': 197, 'xgbclassifier__max_features': 9, 'xgbclassifier__max_depth': 14, 'simpleimputer__strategy': 'mean'}\n"
          ],
          "name": "stdout"
        }
      ]
    },
    {
      "cell_type": "code",
      "metadata": {
        "colab": {
          "base_uri": "https://localhost:8080/"
        },
        "id": "GpG2oztcsJdz",
        "outputId": "93a40dde-1ef6-4f82-ec60-7346b3a30806"
      },
      "source": [
        "# finetune parameters in ridge model\n",
        "param_grid = {'simpleimputer__strategy': ['mean', 'median', 'most_frequent'],\n",
        "              'ridge__alpha': range(1, 15, 3),\n",
        "              # 'ridge__fit_intercept': ['True', 'False'],\n",
        "              # 'ridge__normalize': ['True', 'False'],\n",
        "              'ridge__random_state': range(0, 50, 10)}\n",
        "\n",
        "\n",
        "model_rid = RandomizedSearchCV(model_r, \n",
        "                             param_distributions=param_grid, \n",
        "                             n_iter=50, \n",
        "                             n_jobs=-1, \n",
        "                             cv=5, \n",
        "                             verbose=10)\n",
        "\n",
        "model_rid.fit(X_train_r, y_train_r);\n",
        "\n",
        "# alpha=1.0, fit_intercept=True, normalize=False, copy_X=True, max_iter=None, tol=0.001, solver='auto', random_state=None)"
      ],
      "execution_count": 74,
      "outputs": [
        {
          "output_type": "stream",
          "text": [
            "Fitting 5 folds for each of 50 candidates, totalling 250 fits\n"
          ],
          "name": "stdout"
        },
        {
          "output_type": "stream",
          "text": [
            "[Parallel(n_jobs=-1)]: Using backend LokyBackend with 2 concurrent workers.\n",
            "[Parallel(n_jobs=-1)]: Done   1 tasks      | elapsed:    1.4s\n",
            "[Parallel(n_jobs=-1)]: Done   4 tasks      | elapsed:    1.6s\n",
            "[Parallel(n_jobs=-1)]: Done   9 tasks      | elapsed:    1.8s\n",
            "[Parallel(n_jobs=-1)]: Done  14 tasks      | elapsed:    2.2s\n",
            "[Parallel(n_jobs=-1)]: Done  21 tasks      | elapsed:    2.5s\n",
            "[Parallel(n_jobs=-1)]: Done  28 tasks      | elapsed:    3.0s\n",
            "[Parallel(n_jobs=-1)]: Done  37 tasks      | elapsed:    3.4s\n",
            "[Parallel(n_jobs=-1)]: Done  46 tasks      | elapsed:    4.0s\n",
            "[Parallel(n_jobs=-1)]: Done  57 tasks      | elapsed:    4.7s\n",
            "[Parallel(n_jobs=-1)]: Done  68 tasks      | elapsed:    5.3s\n",
            "[Parallel(n_jobs=-1)]: Done  81 tasks      | elapsed:    6.0s\n",
            "[Parallel(n_jobs=-1)]: Done  94 tasks      | elapsed:    6.9s\n",
            "[Parallel(n_jobs=-1)]: Batch computation too fast (0.1981s.) Setting batch_size=2.\n",
            "[Parallel(n_jobs=-1)]: Done 110 tasks      | elapsed:    7.8s\n",
            "[Parallel(n_jobs=-1)]: Done 140 tasks      | elapsed:    9.3s\n",
            "[Parallel(n_jobs=-1)]: Done 174 tasks      | elapsed:   11.0s\n",
            "[Parallel(n_jobs=-1)]: Done 208 tasks      | elapsed:   12.8s\n",
            "[Parallel(n_jobs=-1)]: Done 246 tasks      | elapsed:   14.9s\n",
            "[Parallel(n_jobs=-1)]: Done 250 out of 250 | elapsed:   15.0s finished\n"
          ],
          "name": "stderr"
        }
      ]
    },
    {
      "cell_type": "code",
      "metadata": {
        "colab": {
          "base_uri": "https://localhost:8080/"
        },
        "id": "4EABYWu5sJzG",
        "outputId": "be3d43b7-6fd9-4dfb-a83b-5f70a7e91e1d"
      },
      "source": [
        "# view best results and parameters for the funetuned ridge model\n",
        "rid_best_score = model_rid.best_score_\n",
        "rid_best_params = model_rid.best_params_\n",
        "\n",
        "print('Best score for `model`:', rid_best_score)\n",
        "print('Best params for `model`:', rid_best_params)\n",
        "# Ridge is most accurate with a simple imputer strategy set to 'mean', a random state of 20, and an alpha of 1"
      ],
      "execution_count": 75,
      "outputs": [
        {
          "output_type": "stream",
          "text": [
            "Best score for `model`: 0.9999999988757015\n",
            "Best params for `model`: {'simpleimputer__strategy': 'mean', 'ridge__random_state': 20, 'ridge__alpha': 1}\n"
          ],
          "name": "stdout"
        }
      ]
    },
    {
      "cell_type": "code",
      "metadata": {
        "colab": {
          "base_uri": "https://localhost:8080/",
          "height": 296
        },
        "id": "6fOI58H8WFnK",
        "outputId": "490d4a69-20dd-4b30-a62e-4d285e1aa25e"
      },
      "source": [
        "# plot confusion matrix for XGB model (replace x with rf to get matrix for random forest model)\n",
        "plot_confusion_matrix(model_x, \n",
        "                      class_X_test, \n",
        "                      class_y_test,\n",
        "                      values_format='.0f',\n",
        "                      display_labels=['Average', 'Excellent', 'Good', 'Poor'])"
      ],
      "execution_count": 76,
      "outputs": [
        {
          "output_type": "execute_result",
          "data": {
            "text/plain": [
              "<sklearn.metrics._plot.confusion_matrix.ConfusionMatrixDisplay at 0x7f7d03443190>"
            ]
          },
          "metadata": {
            "tags": []
          },
          "execution_count": 76
        },
        {
          "output_type": "display_data",
          "data": {
            "image/png": "[encoded data removed]",
            "text/plain": [
              "<Figure size 432x288 with 2 Axes>"
            ]
          },
          "metadata": {
            "tags": [],
            "needs_background": "light"
          }
        }
      ]
    },
    {
      "cell_type": "code",
      "metadata": {
        "colab": {
          "base_uri": "https://localhost:8080/"
        },
        "id": "yU1gDTodXBbu",
        "outputId": "f0988f46-613c-444f-9a60-a1185dc72a63"
      },
      "source": [
        "# get precision, recall, and F1 scores for random forest model (replace rf with x to get scores for XGB model)\n",
        "print(classification_report(class_y_test, model_rf.predict(class_X_test)))\n",
        "\n",
        "class_y_test.value_counts()"
      ],
      "execution_count": 77,
      "outputs": [
        {
          "output_type": "stream",
          "text": [
            "                 precision    recall  f1-score   support\n",
            "\n",
            "  Average Score       0.84      0.99      0.91       929\n",
            "Excellent Score       0.90      0.92      0.91       423\n",
            "     Good Score       0.56      0.14      0.23       235\n",
            "     Poor Score       1.00      0.20      0.33        10\n",
            "\n",
            "       accuracy                           0.84      1597\n",
            "      macro avg       0.82      0.56      0.60      1597\n",
            "   weighted avg       0.81      0.84      0.81      1597\n",
            "\n"
          ],
          "name": "stdout"
        },
        {
          "output_type": "execute_result",
          "data": {
            "text/plain": [
              "Average Score      929\n",
              "Excellent Score    423\n",
              "Good Score         235\n",
              "Poor Score          10\n",
              "Name: TARGET_CLASSIFICATION, dtype: int64"
            ]
          },
          "metadata": {
            "tags": []
          },
          "execution_count": 77
        }
      ]
    },
    {
      "cell_type": "code",
      "metadata": {
        "colab": {
          "base_uri": "https://localhost:8080/",
          "height": 530
        },
        "id": "uU_nttNdulyS",
        "outputId": "4558fb41-971c-4df1-a0c0-db4bc5a25484"
      },
      "source": [
        "# See top features in ridge regression model\n",
        "from matplotlib.pyplot import figure\n",
        "\n",
        "coefficients = model_r.named_steps['ridge'].coef_\n",
        "features = model_r.named_steps['onehotencoder'].get_feature_names()\n",
        "feat_imp = pd.Series(coefficients, index=features).sort_values(key=abs)\n",
        "feat_imp.tail(10).plot(kind='barh', figsize=(16,8))\n",
        "plt.xlabel('Coefficient')\n",
        "plt.ylabel('Feature')\n",
        "plt.title('Coefficients for Ridge Regression')"
      ],
      "execution_count": 78,
      "outputs": [
        {
          "output_type": "execute_result",
          "data": {
            "text/plain": [
              "Text(0.5, 1.0, 'Coefficients for Ridge Regression')"
            ]
          },
          "metadata": {
            "tags": []
          },
          "execution_count": 78
        },
        {
          "output_type": "display_data",
          "data": {
            "image/png": "[encoded data removed]",
            "text/plain": [
              "<Figure size 1152x576 with 1 Axes>"
            ]
          },
          "metadata": {
            "tags": [],
            "needs_background": "light"
          }
        }
      ]
    },
    {
      "cell_type": "code",
      "metadata": {
        "colab": {
          "base_uri": "https://localhost:8080/"
        },
        "id": "ySa6YCruFod5",
        "outputId": "2595bf05-885d-4494-e3d9-ea5e27ec194d"
      },
      "source": [
        "# get permutation importances for all models \n",
        "\n",
        "# Linear Regression\n",
        "perm_imp_lr = permutation_importance(model_lr,\n",
        "                                     regression_X_test,\n",
        "                                     regression_y_test,\n",
        "                                     n_repeats=5,\n",
        "                                     n_jobs = -1,\n",
        "                                     random_state = 42)\n",
        "\n",
        "data = {'imp_mean': perm_imp_lr.importances_mean,\n",
        "        'imp_std' : perm_imp_lr.importances_std}\n",
        "\n",
        "perm_imp_lr = pd.DataFrame(data, index=regression_X_test.columns)\n",
        "\n",
        "# Ridge\n",
        "perm_imp_r = permutation_importance(model_r,\n",
        "                                     regression_X_test,\n",
        "                                     regression_y_test,\n",
        "                                     n_repeats=5,\n",
        "                                     n_jobs = -1,\n",
        "                                     random_state = 42)\n",
        "\n",
        "data = {'imp_mean': perm_imp_r.importances_mean,\n",
        "        'imp_std' : perm_imp_r.importances_std}\n",
        "\n",
        "perm_imp_r = pd.DataFrame(data, index=regression_X_test.columns)\n",
        "\n",
        "# XGBoost\n",
        "perm_imp_x = permutation_importance(model_x,\n",
        "                                     class_X_test,\n",
        "                                     class_y_test,\n",
        "                                     n_repeats=5,\n",
        "                                     n_jobs = -1,\n",
        "                                     random_state = 42)\n",
        "\n",
        "data = {'imp_mean': perm_imp_x.importances_mean,\n",
        "        'imp_std' : perm_imp_x.importances_std}\n",
        "\n",
        "perm_imp_x = pd.DataFrame(data, index=class_X_test.columns)\n",
        "\n",
        "# Random Forest \n",
        "perm_imp_rf = permutation_importance(model_rf,\n",
        "                                     class_X_test,\n",
        "                                     class_y_test,\n",
        "                                     n_repeats=5,\n",
        "                                     n_jobs = -1,\n",
        "                                     random_state = 42)\n",
        "\n",
        "data = {'imp_mean': perm_imp_rf.importances_mean,\n",
        "        'imp_std' : perm_imp_rf.importances_std}\n",
        "\n",
        "perm_imp_x = pd.DataFrame(data, index=class_X_test.columns)\n",
        "\n",
        "\n",
        "\n",
        "# Show Perm Imp for all three models \n",
        "print(perm_imp_lr, perm_imp_r, perm_imp_x, perm_imp_rf)"
      ],
      "execution_count": 79,
      "outputs": [
        {
          "output_type": "stream",
          "text": [
            "                   imp_mean   imp_std\n",
            "FRUITS_VEGGIES     0.022686  0.000267\n",
            "DAILY_STRESS       0.018409  0.000383\n",
            "PLACES_VISITED     0.029790  0.000785\n",
            "CORE_CIRCLE        0.022159  0.000520\n",
            "SUPPORTING_OTHERS  0.028890  0.000409\n",
            "SOCIAL_NETWORK     0.025415  0.000672\n",
            "ACHIEVEMENT        0.021188  0.000314\n",
            "DONATION           0.036207  0.000805\n",
            "BMI_RANGE          0.064218  0.001608\n",
            "TODO_COMPLETED     0.018446  0.000430\n",
            "FLOW               0.015022  0.000260\n",
            "DAILY_STEPS        0.028605  0.000889\n",
            "LIVE_VISION        0.027991  0.001055\n",
            "SLEEP_HOURS        0.005021  0.000049\n",
            "LOST_VACATION      0.036319  0.001380\n",
            "DAILY_SHOUTING     0.019776  0.000326\n",
            "SUFFICIENT_INCOME  0.054396  0.001419\n",
            "PERSONAL_AWARDS    0.026050  0.000532\n",
            "TIME_FOR_PASSION   0.020267  0.000687\n",
            "WEEKLY_MEDITATION  0.023501  0.000474\n",
            "AGE                0.000000  0.000000\n",
            "GENDER             0.000000  0.000000                        imp_mean       imp_std\n",
            "FRUITS_VEGGIES     2.268738e-02  2.671836e-04\n",
            "DAILY_STRESS       1.841030e-02  3.830365e-04\n",
            "PLACES_VISITED     2.979245e-02  7.845331e-04\n",
            "CORE_CIRCLE        2.216098e-02  5.202518e-04\n",
            "SUPPORTING_OTHERS  2.889096e-02  4.088762e-04\n",
            "SOCIAL_NETWORK     2.541526e-02  6.717222e-04\n",
            "ACHIEVEMENT        2.119008e-02  3.140258e-04\n",
            "DONATION           3.620620e-02  8.051627e-04\n",
            "BMI_RANGE          6.421422e-02  1.608059e-03\n",
            "TODO_COMPLETED     1.844844e-02  4.297249e-04\n",
            "FLOW               1.502285e-02  2.604946e-04\n",
            "DAILY_STEPS        2.860621e-02  8.888452e-04\n",
            "LIVE_VISION        2.799182e-02  1.055153e-03\n",
            "SLEEP_HOURS        5.021298e-03  4.935613e-05\n",
            "LOST_VACATION      3.631778e-02  1.380082e-03\n",
            "DAILY_SHOUTING     1.977657e-02  3.261635e-04\n",
            "SUFFICIENT_INCOME  5.439440e-02  1.418398e-03\n",
            "PERSONAL_AWARDS    2.605053e-02  5.318727e-04\n",
            "TIME_FOR_PASSION   2.026834e-02  6.871593e-04\n",
            "WEEKLY_MEDITATION  2.350109e-02  4.745339e-04\n",
            "AGE                2.679801e-11  1.873095e-12\n",
            "GENDER            -2.482459e-14  2.078736e-13                    imp_mean   imp_std\n",
            "FRUITS_VEGGIES     0.015028  0.003042\n",
            "DAILY_STRESS       0.007890  0.001092\n",
            "PLACES_VISITED     0.030056  0.001726\n",
            "CORE_CIRCLE        0.013901  0.003026\n",
            "SUPPORTING_OTHERS  0.028303  0.002948\n",
            "SOCIAL_NETWORK     0.008265  0.001652\n",
            "ACHIEVEMENT        0.017408  0.004808\n",
            "DONATION           0.012273  0.001883\n",
            "BMI_RANGE          0.020413  0.003912\n",
            "TODO_COMPLETED     0.021791  0.002035\n",
            "FLOW               0.005636  0.002376\n",
            "DAILY_STEPS        0.017157  0.004146\n",
            "LIVE_VISION        0.012649  0.005392\n",
            "SLEEP_HOURS       -0.002755  0.002363\n",
            "LOST_VACATION      0.011772  0.005275\n",
            "DAILY_SHOUTING     0.007514  0.000886\n",
            "SUFFICIENT_INCOME  0.018910  0.002609\n",
            "PERSONAL_AWARDS    0.017032  0.004775\n",
            "TIME_FOR_PASSION   0.011396  0.003507\n",
            "WEEKLY_MEDITATION  0.011146  0.004625\n",
            "AGE                0.001628  0.000937\n",
            "GENDER            -0.002004  0.000831 {'importances_mean': array([ 0.01502818,  0.00788979,  0.03005636,  0.01390106,  0.02830307,\n",
            "        0.0082655 ,  0.01740764,  0.01227301,  0.02041327,  0.02179086,\n",
            "        0.00563557,  0.01715717,  0.01264872, -0.00275517,  0.01177207,\n",
            "        0.00751409,  0.01891046,  0.01703193,  0.01139637,  0.0111459 ,\n",
            "        0.00162805, -0.00200376]), 'importances_std': array([0.00304194, 0.00109177, 0.00172624, 0.00302644, 0.00294768,\n",
            "       0.00165196, 0.0048081 , 0.00188269, 0.00391246, 0.00203482,\n",
            "       0.00237616, 0.00414601, 0.00539237, 0.00236293, 0.00527475,\n",
            "       0.00088554, 0.00260898, 0.00477537, 0.00350657, 0.00462522,\n",
            "       0.00093717, 0.00083071]), 'importances': array([[ 0.01753287,  0.01127113,  0.0194114 ,  0.014402  ,  0.01252348],\n",
            "       [ 0.00876644,  0.00751409,  0.00751409,  0.00626174,  0.00939261],\n",
            "       [ 0.03005636,  0.02817783,  0.03256105,  0.0313087 ,  0.02817783],\n",
            "       [ 0.01064496,  0.01502818,  0.01001879,  0.01628053,  0.01753287],\n",
            "       [ 0.02692549,  0.0338134 ,  0.02817783,  0.02504696,  0.02755166],\n",
            "       [ 0.01001879,  0.01001879,  0.00563557,  0.00814026,  0.00751409],\n",
            "       [ 0.01502818,  0.0169067 ,  0.01189731,  0.0169067 ,  0.02629931],\n",
            "       [ 0.01252348,  0.01565435,  0.01001879,  0.01127113,  0.01189731],\n",
            "       [ 0.014402  ,  0.01815905,  0.02316844,  0.02066374,  0.02567314],\n",
            "       [ 0.0194114 ,  0.02504696,  0.02066374,  0.02316844,  0.02066374],\n",
            "       [ 0.00688791,  0.00500939,  0.00751409,  0.00751409,  0.00125235],\n",
            "       [ 0.02128992,  0.01878522,  0.01189731,  0.01252348,  0.02128992],\n",
            "       [ 0.01314966,  0.01377583,  0.02066374,  0.00375704,  0.01189731],\n",
            "       [-0.00187852, -0.00563557, -0.00438322,  0.00125235, -0.00313087],\n",
            "       [ 0.01252348,  0.014402  ,  0.00375704,  0.00876644,  0.0194114 ],\n",
            "       [ 0.00751409,  0.00626174,  0.00688791,  0.00876644,  0.00814026],\n",
            "       [ 0.0194114 ,  0.02003757,  0.02066374,  0.01377583,  0.02066374],\n",
            "       [ 0.01753287,  0.02254227,  0.01815905,  0.01878522,  0.00814026],\n",
            "       [ 0.01565435,  0.01127113,  0.00751409,  0.01502818,  0.00751409],\n",
            "       [ 0.01878522,  0.00500939,  0.01001879,  0.01314966,  0.00876644],\n",
            "       [ 0.00187852,  0.00313087,  0.00062617,  0.00187852,  0.00062617],\n",
            "       [-0.00062617, -0.0025047 , -0.00313087, -0.00187852, -0.00187852]])}\n"
          ],
          "name": "stdout"
        }
      ]
    },
    {
      "cell_type": "code",
      "metadata": {
        "colab": {
          "base_uri": "https://localhost:8080/",
          "height": 731
        },
        "id": "5RC59c-4GRCL",
        "outputId": "48825348-2f69-4df0-fdb4-08160490ebfc"
      },
      "source": [
        "# confirm formatting\n",
        "perm_imp_x"
      ],
      "execution_count": 80,
      "outputs": [
        {
          "output_type": "execute_result",
          "data": {
            "text/html": [
              "<div>\n",
              "<style scoped>\n",
              "    .dataframe tbody tr th:only-of-type {\n",
              "        vertical-align: middle;\n",
              "    }\n",
              "\n",
              "    .dataframe tbody tr th {\n",
              "        vertical-align: top;\n",
              "    }\n",
              "\n",
              "    .dataframe thead th {\n",
              "        text-align: right;\n",
              "    }\n",
              "</style>\n",
              "<table border=\"1\" class=\"dataframe\">\n",
              "  <thead>\n",
              "    <tr style=\"text-align: right;\">\n",
              "      <th></th>\n",
              "      <th>imp_mean</th>\n",
              "      <th>imp_std</th>\n",
              "    </tr>\n",
              "  </thead>\n",
              "  <tbody>\n",
              "    <tr>\n",
              "      <th>FRUITS_VEGGIES</th>\n",
              "      <td>0.015028</td>\n",
              "      <td>0.003042</td>\n",
              "    </tr>\n",
              "    <tr>\n",
              "      <th>DAILY_STRESS</th>\n",
              "      <td>0.007890</td>\n",
              "      <td>0.001092</td>\n",
              "    </tr>\n",
              "    <tr>\n",
              "      <th>PLACES_VISITED</th>\n",
              "      <td>0.030056</td>\n",
              "      <td>0.001726</td>\n",
              "    </tr>\n",
              "    <tr>\n",
              "      <th>CORE_CIRCLE</th>\n",
              "      <td>0.013901</td>\n",
              "      <td>0.003026</td>\n",
              "    </tr>\n",
              "    <tr>\n",
              "      <th>SUPPORTING_OTHERS</th>\n",
              "      <td>0.028303</td>\n",
              "      <td>0.002948</td>\n",
              "    </tr>\n",
              "    <tr>\n",
              "      <th>SOCIAL_NETWORK</th>\n",
              "      <td>0.008265</td>\n",
              "      <td>0.001652</td>\n",
              "    </tr>\n",
              "    <tr>\n",
              "      <th>ACHIEVEMENT</th>\n",
              "      <td>0.017408</td>\n",
              "      <td>0.004808</td>\n",
              "    </tr>\n",
              "    <tr>\n",
              "      <th>DONATION</th>\n",
              "      <td>0.012273</td>\n",
              "      <td>0.001883</td>\n",
              "    </tr>\n",
              "    <tr>\n",
              "      <th>BMI_RANGE</th>\n",
              "      <td>0.020413</td>\n",
              "      <td>0.003912</td>\n",
              "    </tr>\n",
              "    <tr>\n",
              "      <th>TODO_COMPLETED</th>\n",
              "      <td>0.021791</td>\n",
              "      <td>0.002035</td>\n",
              "    </tr>\n",
              "    <tr>\n",
              "      <th>FLOW</th>\n",
              "      <td>0.005636</td>\n",
              "      <td>0.002376</td>\n",
              "    </tr>\n",
              "    <tr>\n",
              "      <th>DAILY_STEPS</th>\n",
              "      <td>0.017157</td>\n",
              "      <td>0.004146</td>\n",
              "    </tr>\n",
              "    <tr>\n",
              "      <th>LIVE_VISION</th>\n",
              "      <td>0.012649</td>\n",
              "      <td>0.005392</td>\n",
              "    </tr>\n",
              "    <tr>\n",
              "      <th>SLEEP_HOURS</th>\n",
              "      <td>-0.002755</td>\n",
              "      <td>0.002363</td>\n",
              "    </tr>\n",
              "    <tr>\n",
              "      <th>LOST_VACATION</th>\n",
              "      <td>0.011772</td>\n",
              "      <td>0.005275</td>\n",
              "    </tr>\n",
              "    <tr>\n",
              "      <th>DAILY_SHOUTING</th>\n",
              "      <td>0.007514</td>\n",
              "      <td>0.000886</td>\n",
              "    </tr>\n",
              "    <tr>\n",
              "      <th>SUFFICIENT_INCOME</th>\n",
              "      <td>0.018910</td>\n",
              "      <td>0.002609</td>\n",
              "    </tr>\n",
              "    <tr>\n",
              "      <th>PERSONAL_AWARDS</th>\n",
              "      <td>0.017032</td>\n",
              "      <td>0.004775</td>\n",
              "    </tr>\n",
              "    <tr>\n",
              "      <th>TIME_FOR_PASSION</th>\n",
              "      <td>0.011396</td>\n",
              "      <td>0.003507</td>\n",
              "    </tr>\n",
              "    <tr>\n",
              "      <th>WEEKLY_MEDITATION</th>\n",
              "      <td>0.011146</td>\n",
              "      <td>0.004625</td>\n",
              "    </tr>\n",
              "    <tr>\n",
              "      <th>AGE</th>\n",
              "      <td>0.001628</td>\n",
              "      <td>0.000937</td>\n",
              "    </tr>\n",
              "    <tr>\n",
              "      <th>GENDER</th>\n",
              "      <td>-0.002004</td>\n",
              "      <td>0.000831</td>\n",
              "    </tr>\n",
              "  </tbody>\n",
              "</table>\n",
              "</div>"
            ],
            "text/plain": [
              "                   imp_mean   imp_std\n",
              "FRUITS_VEGGIES     0.015028  0.003042\n",
              "DAILY_STRESS       0.007890  0.001092\n",
              "PLACES_VISITED     0.030056  0.001726\n",
              "CORE_CIRCLE        0.013901  0.003026\n",
              "SUPPORTING_OTHERS  0.028303  0.002948\n",
              "SOCIAL_NETWORK     0.008265  0.001652\n",
              "ACHIEVEMENT        0.017408  0.004808\n",
              "DONATION           0.012273  0.001883\n",
              "BMI_RANGE          0.020413  0.003912\n",
              "TODO_COMPLETED     0.021791  0.002035\n",
              "FLOW               0.005636  0.002376\n",
              "DAILY_STEPS        0.017157  0.004146\n",
              "LIVE_VISION        0.012649  0.005392\n",
              "SLEEP_HOURS       -0.002755  0.002363\n",
              "LOST_VACATION      0.011772  0.005275\n",
              "DAILY_SHOUTING     0.007514  0.000886\n",
              "SUFFICIENT_INCOME  0.018910  0.002609\n",
              "PERSONAL_AWARDS    0.017032  0.004775\n",
              "TIME_FOR_PASSION   0.011396  0.003507\n",
              "WEEKLY_MEDITATION  0.011146  0.004625\n",
              "AGE                0.001628  0.000937\n",
              "GENDER            -0.002004  0.000831"
            ]
          },
          "metadata": {
            "tags": []
          },
          "execution_count": 80
        }
      ]
    },
    {
      "cell_type": "code",
      "metadata": {
        "colab": {
          "base_uri": "https://localhost:8080/",
          "height": 1000
        },
        "id": "EU20FXVVHV0X",
        "outputId": "fa550fe8-c12b-4af6-ff1a-b221e70f0453"
      },
      "source": [
        "# Plot PDP for XGB model \n",
        "# toggle to random forest model by replacing x for rf\n",
        "# toggle features depending on whether BMI and Income were dropped or not\n",
        "\n",
        "features = ['DAILY_STEPS', 'PLACES_VISITED']\n",
        "\n",
        "\n",
        "interact = pdp_interact(model_x,\n",
        "                        dataset=class_X_test.dropna(),\n",
        "                        model_features=class_X_test.columns,\n",
        "                        features=features)\n",
        "pdp_interact_plot(interact, plot_type='grid', feature_names=features)"
      ],
      "execution_count": 81,
      "outputs": [
        {
          "output_type": "execute_result",
          "data": {
            "text/plain": [
              "(<Figure size 1080x1224 with 9 Axes>,\n",
              " {'pdp_inter_ax': [<matplotlib.axes._subplots.AxesSubplot at 0x7f7d16f7e8d0>,\n",
              "   <matplotlib.axes._subplots.AxesSubplot at 0x7f7cffa6b710>,\n",
              "   <matplotlib.axes._subplots.AxesSubplot at 0x7f7cff903d90>,\n",
              "   <matplotlib.axes._subplots.AxesSubplot at 0x7f7cff9111d0>],\n",
              "  'title_ax': <matplotlib.axes._subplots.AxesSubplot at 0x7f7d02e16e90>})"
            ]
          },
          "metadata": {
            "tags": []
          },
          "execution_count": 81
        },
        {
          "output_type": "display_data",
          "data": {
            "image/png": "[encoded data removed]",
            "text/plain": [
              "<Figure size 1080x1224 with 9 Axes>"
            ]
          },
          "metadata": {
            "tags": [],
            "needs_background": "light"
          }
        }
      ]
    },
    {
      "cell_type": "code",
      "metadata": {
        "colab": {
          "base_uri": "https://localhost:8080/",
          "height": 632
        },
        "id": "y2-KvJRgZRG4",
        "outputId": "873ce810-841f-4e63-98bc-f2cdb7a85c4e"
      },
      "source": [
        "# Plot PDP for ridge model \n",
        "# toggle to linear regression model by replacing r for lr\n",
        "# toggle features depending on whether BMI and Income were dropped or not\n",
        "\n",
        "features = ['BMI_RANGE', 'SUFFICIENT_INCOME']\n",
        "\n",
        "\n",
        "interact = pdp_interact(model_r,\n",
        "                        dataset=regression_X_test.dropna(),\n",
        "                        model_features=regression_X_test.columns,\n",
        "                        features=features)\n",
        "pdp_interact_plot(interact, plot_type='grid', feature_names=features)"
      ],
      "execution_count": 82,
      "outputs": [
        {
          "output_type": "execute_result",
          "data": {
            "text/plain": [
              "(<Figure size 540x684 with 3 Axes>,\n",
              " {'pdp_inter_ax': <matplotlib.axes._subplots.AxesSubplot at 0x7f7cffac01d0>,\n",
              "  'title_ax': <matplotlib.axes._subplots.AxesSubplot at 0x7f7cffab5c90>})"
            ]
          },
          "metadata": {
            "tags": []
          },
          "execution_count": 82
        },
        {
          "output_type": "display_data",
          "data": {
            "image/png": "[encoded data removed]",
            "text/plain": [
              "<Figure size 540x684 with 3 Axes>"
            ]
          },
          "metadata": {
            "tags": [],
            "needs_background": "light"
          }
        }
      ]
    },
    {
      "cell_type": "code",
      "metadata": {
        "id": "MxwnGUR525OD"
      },
      "source": [
        "# Shap plot - drop AGE column in wrangle to run for Ridge and Linear Regression Models \n",
        "\n",
        "\n",
        "model_gb = model_lr\n",
        "model_gb.fit(X_train_r, y_train_r);\n",
        "\n",
        "\n",
        "row = X_train_r.tail(1)\n",
        "\n",
        "explainer = shap.Explainer(model_gb)\n",
        "shap_values = explainer.shap_values(row)\n",
        "\n",
        "shap.initjs()\n",
        "\n",
        "shap.force_plot(\n",
        "    base_value = explainer.expected_value,\n",
        "    shap_values = shap_values,\n",
        "    features=row\n",
        ")"
      ],
      "execution_count": null,
      "outputs": []
    }
  ]
}